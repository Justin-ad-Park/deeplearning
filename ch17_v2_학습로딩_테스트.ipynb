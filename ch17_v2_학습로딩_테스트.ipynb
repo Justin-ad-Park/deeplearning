{
 "cells": [
  {
   "cell_type": "markdown",
   "metadata": {},
   "source": [
    "# 17장 딥러닝을 이용한 자연어 처리"
   ]
  },
  {
   "cell_type": "markdown",
   "metadata": {},
   "source": [
    "[<img src=\"https://raw.githubusercontent.com/taehojo/taehojo.github.io/master/assets/images/linktocolab.png\" align=\"left\"/> ](https://colab.research.google.com/github/taehojo/deeplearning/blob/master/colab/ch17-colab.ipynb)"
   ]
  },
  {
   "cell_type": "markdown",
   "metadata": {},
   "source": [
    "## 1. 텍스트의 토큰화"
   ]
  },
  {
   "cell_type": "code",
   "execution_count": 6,
   "metadata": {},
   "outputs": [],
   "source": [
    "from tensorflow.keras.preprocessing.text import Tokenizer\n",
    "from tensorflow.keras.preprocessing.sequence import pad_sequences\n",
    "from tensorflow.keras.models import Sequential, load_model\n",
    "from numpy import array\n",
    "\n",
    "# 케라스의 텍스트 전처리와 관련한 함수중 text_to_word_sequence 함수를 불러옵니다.\n",
    "#from tensorflow.keras.preprocessing.text import text_to_word_sequence\n",
    " "
   ]
  },
  {
   "cell_type": "markdown",
   "metadata": {},
   "source": [
    "## 2. 모델 불러오기"
   ]
  },
  {
   "cell_type": "code",
   "execution_count": 7,
   "metadata": {},
   "outputs": [],
   "source": [
    "# 모델 체크(최적 학습), 종료\n",
    "modelpath=\"./data/model/ch17_review_md.hdf5\"\n",
    "\n",
    "model = load_model(modelpath)"
   ]
  },
  {
   "cell_type": "code",
   "execution_count": 8,
   "metadata": {},
   "outputs": [
    {
     "name": "stdout",
     "output_type": "stream",
     "text": [
      "{'너무': 1, '재밌네요': 2, '최고예요': 3, '참': 4, '잘': 5, '만든': 6, '영화예요': 7, '추천하고': 8, '싶은': 9, '영화입니다': 10, '한번': 11, '더': 12, '보고싶네요': 13, '글쎄요': 14, '별로예요': 15, '생각보다': 16, '지루하네요': 17, '연기가': 18, '어색해요': 19, '재미없어요': 20}\n"
     ]
    }
   ],
   "source": [
    "# 토큰 불러오기\n",
    "import pickle\n",
    "\n",
    "# 토큰 패스\n",
    "tokenpath=\"./data/model/ch17_review_token.pickle\"\n",
    "\n",
    "with open(tokenpath, 'rb') as handle:\n",
    "    token = pickle.load(handle)\n",
    "    \n",
    "    print(token.word_index)"
   ]
  },
  {
   "cell_type": "code",
   "execution_count": 9,
   "metadata": {},
   "outputs": [
    {
     "name": "stdout",
     "output_type": "stream",
     "text": [
      "[[14, 1, 3], [4, 1, 15], [14, 17], [20], []]\n",
      "[[ 0 14  1  3]\n",
      " [ 0  4  1 15]\n",
      " [ 0  0 14 17]\n",
      " [ 0  0  0 20]\n",
      " [ 0  0  0  0]]\n",
      "1/1 [==============================] - 0s 91ms/step - loss: 0.6832 - accuracy: 0.8000\n",
      "\n",
      " Accuracy: 0.8000\n"
     ]
    }
   ],
   "source": [
    "# 예측률 검증\n",
    "#  \"참 너무 별로예요\" 는 부정이지만, 분석 데이터 기준으로는 긍정 평가임\n",
    "test_doc = [\"글쎄요 너무 최고예요\", \"참 너무 별로예요\", \"글쎄요 지루하네요\",\"재미없어요\",\"이상한 문구는 어떻게 되나요\"];\n",
    "classes_y = array([1,0,0,0,0])\n",
    "\n",
    "test = token.texts_to_sequences(test_doc)\n",
    "print(test)\n",
    "padded_test = pad_sequences(test, 4)  \n",
    "print(padded_test)\n",
    "\n",
    "#model.predict(padded_test)\n",
    "\n",
    "print(\"\\n Accuracy: %.4f\" % (model.evaluate(padded_test, classes_y)[1]))"
   ]
  }
 ],
 "metadata": {
  "kernelspec": {
   "display_name": "Python 3 (ipykernel)",
   "language": "python",
   "name": "python3"
  },
  "language_info": {
   "codemirror_mode": {
    "name": "ipython",
    "version": 3
   },
   "file_extension": ".py",
   "mimetype": "text/x-python",
   "name": "python",
   "nbconvert_exporter": "python",
   "pygments_lexer": "ipython3",
   "version": "3.9.12"
  }
 },
 "nbformat": 4,
 "nbformat_minor": 2
}
