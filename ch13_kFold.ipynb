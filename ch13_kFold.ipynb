{
 "cells": [
  {
   "cell_type": "markdown",
   "metadata": {},
   "source": [
    "# 13장 모델의 성능 검증하기"
   ]
  },
  {
   "cell_type": "markdown",
   "metadata": {},
   "source": [
    "[<img src=\"https://raw.githubusercontent.com/taehojo/taehojo.github.io/master/assets/images/linktocolab.png\" align=\"left\"/> ](https://colab.research.google.com/github/taehojo/deeplearning/blob/master/colab/ch13-colab.ipynb)"
   ]
  },
  {
   "cell_type": "markdown",
   "metadata": {},
   "source": [
    "##  데이터의 확인과 예측 실행"
   ]
  },
  {
   "cell_type": "code",
   "execution_count": 27,
   "metadata": {},
   "outputs": [],
   "source": [
    "from tensorflow.keras.models import Sequential\n",
    "from tensorflow.keras.layers import Dense\n",
    "from sklearn.model_selection import KFold\n",
    "from sklearn.metrics import accuracy_score\n",
    "\n",
    "import pandas as pd\n",
    "\n",
    "# 데이터 입력\n",
    "df = pd.read_csv('./data/sonar3.csv', header=None)\n",
    "\n"
   ]
  },
  {
   "cell_type": "code",
   "execution_count": 28,
   "metadata": {},
   "outputs": [],
   "source": [
    "# 음파 관련 속성을 X로, 광물의 종류를 y로 저장합니다.\n",
    "X = df.iloc[:,0:60]\n",
    "y = df.iloc[:,60]"
   ]
  },
  {
   "cell_type": "code",
   "execution_count": 29,
   "metadata": {
    "scrolled": true
   },
   "outputs": [],
   "source": [
    "# 데이터를 몇 겹으로 나눌 것인지 정합니다.\n",
    "k = 5\n",
    "\n",
    "#KFold 함수를 불러옵니다. 분할하기 전에 샘플이 치우치지 않도록 섞어 줍니다.\n",
    "kfold = KFold(n_splits=k, shuffle=True)\n",
    "\n",
    "# 정확도가 채워질 빈 리스트를 준비합니다.\n",
    "acc_score = []\n"
   ]
  },
  {
   "cell_type": "code",
   "execution_count": 30,
   "metadata": {},
   "outputs": [],
   "source": [
    "# 모델 생성하는 함수를 정의합니다.\n",
    "def model_fn():\n",
    "   # 모델을 설정합니다.\n",
    "    model = Sequential()\n",
    "    model.add(Dense(24,  input_dim=60, activation='relu'))\n",
    "    model.add(Dense(10, activation='relu'))\n",
    "    model.add(Dense(1, activation='sigmoid')) \n",
    "    return model"
   ]
  },
  {
   "cell_type": "code",
   "execution_count": 31,
   "metadata": {},
   "outputs": [
    {
     "name": "stdout",
     "output_type": "stream",
     "text": [
      "[  0   1   2   4   5   6   7   9  11  12  13  14  15  16  17  18  19  20\n",
      "  21  22  24  25  26  27  29  30  31  34  36  37  38  39  40  41  42  43\n",
      "  44  45  46  47  48  49  50  51  52  54  55  56  57  58  60  61  63  64\n",
      "  65  66  68  69  71  72  73  74  76  77  78  80  81  82  83  84  85  87\n",
      "  88  90  91  92  93  94  95  96  98  99 100 101 103 104 105 106 107 109\n",
      " 110 111 112 113 116 117 119 120 121 122 126 127 128 130 131 132 133 134\n",
      " 135 137 138 139 140 142 145 146 147 149 150 151 152 153 154 155 156 157\n",
      " 158 159 160 161 162 163 164 165 166 167 169 170 171 173 175 176 177 178\n",
      " 179 182 183 184 185 186 187 189 190 191 194 195 196 197 198 199 200 202\n",
      " 203 205 206 207]\n",
      "2/2 [==============================] - 0s 2ms/step - loss: 0.5146 - accuracy: 0.8571\n",
      "[  0   1   2   3   5   7   8  10  11  13  14  15  16  17  18  19  20  22\n",
      "  23  25  27  28  29  30  31  32  33  34  35  36  37  38  39  40  41  42\n",
      "  43  44  45  46  47  48  49  51  52  53  54  58  59  60  61  62  63  64\n",
      "  65  66  67  69  70  71  73  75  79  81  82  84  85  86  87  89  90  91\n",
      "  92  93  94  96  97  99 100 101 102 103 104 105 107 108 110 111 112 113\n",
      " 114 115 117 118 119 120 122 123 124 125 126 127 128 129 130 131 132 133\n",
      " 134 135 136 137 138 140 141 142 143 144 145 146 147 148 149 150 151 152\n",
      " 153 154 155 157 158 159 160 163 168 169 170 171 172 173 174 175 177 178\n",
      " 180 181 182 183 185 188 191 192 193 194 196 197 198 199 200 201 202 203\n",
      " 204 205 206 207]\n",
      "2/2 [==============================] - 0s 1ms/step - loss: 0.6691 - accuracy: 0.8571\n",
      "[  2   3   4   5   6   7   8   9  10  11  12  13  15  16  17  18  21  22\n",
      "  23  24  26  28  29  30  32  33  34  35  36  37  38  41  42  43  46  49\n",
      "  50  52  53  54  55  56  57  58  59  61  62  63  65  66  67  68  69  70\n",
      "  71  72  74  75  76  77  78  79  80  81  82  83  85  86  87  88  89  90\n",
      "  91  94  95  97  98 101 102 103 104 105 106 108 109 110 111 114 115 116\n",
      " 117 118 119 120 121 122 123 124 125 126 128 129 132 133 134 136 137 139\n",
      " 140 141 142 143 144 145 146 147 148 149 151 153 154 155 156 158 159 160\n",
      " 161 162 163 164 165 166 167 168 169 172 173 174 175 176 177 178 179 180\n",
      " 181 182 184 186 187 188 189 190 191 192 193 194 195 197 198 200 201 202\n",
      " 203 204 205 206]\n",
      "2/2 [==============================] - 0s 1ms/step - loss: 0.7352 - accuracy: 0.8095\n",
      "[  0   1   3   4   6   8   9  10  11  12  13  14  15  18  19  20  21  23\n",
      "  24  25  26  27  28  29  30  31  32  33  35  39  40  42  43  44  45  46\n",
      "  47  48  49  50  51  53  55  56  57  58  59  60  61  62  64  65  66  67\n",
      "  68  69  70  71  72  73  74  75  76  77  78  79  80  83  84  85  86  87\n",
      "  88  89  92  93  94  95  96  97  98  99 100 102 103 106 107 108 109 110\n",
      " 111 112 113 114 115 116 117 118 120 121 122 123 124 125 126 127 129 130\n",
      " 131 133 134 135 136 138 139 141 142 143 144 147 148 150 151 152 154 155\n",
      " 156 157 158 160 161 162 164 165 166 167 168 170 171 172 173 174 175 176\n",
      " 177 179 180 181 183 184 185 186 187 188 189 190 192 193 194 195 196 197\n",
      " 199 201 203 204 207]\n",
      "2/2 [==============================] - 0s 1ms/step - loss: 0.8719 - accuracy: 0.8049\n",
      "[  0   1   2   3   4   5   6   7   8   9  10  12  14  16  17  19  20  21\n",
      "  22  23  24  25  26  27  28  31  32  33  34  35  36  37  38  39  40  41\n",
      "  44  45  47  48  50  51  52  53  54  55  56  57  59  60  62  63  64  67\n",
      "  68  70  72  73  74  75  76  77  78  79  80  81  82  83  84  86  88  89\n",
      "  90  91  92  93  95  96  97  98  99 100 101 102 104 105 106 107 108 109\n",
      " 112 113 114 115 116 118 119 121 123 124 125 127 128 129 130 131 132 135\n",
      " 136 137 138 139 140 141 143 144 145 146 148 149 150 152 153 156 157 159\n",
      " 161 162 163 164 165 166 167 168 169 170 171 172 174 176 178 179 180 181\n",
      " 182 183 184 185 186 187 188 189 190 191 192 193 195 196 198 199 200 201\n",
      " 202 204 205 206 207]\n",
      "2/2 [==============================] - 0s 1ms/step - loss: 0.1970 - accuracy: 0.9512\n",
      "정확도: [0.8571428656578064, 0.8571428656578064, 0.8095238208770752, 0.8048780560493469, 0.9512194991111755]\n",
      "정확도 평균: 0.855981421470642\n"
     ]
    }
   ],
   "source": [
    "# k겹 교차 검증을 이용해 k번의 학습을 실행합니다.\n",
    "# for 문에 의해 k번 반복합니다.\n",
    "# split()에 의해 k개의 학습셋, 테스트셋으로 분리됩니다.\n",
    "for train_index, test_index in  .split(X):\n",
    "    X_train, X_test = X.iloc[train_index,:], X.iloc[test_index,:]\n",
    "    y_train, y_test = y.iloc[train_index], y.iloc[test_index]\n",
    "    \n",
    "    print(train_index)\n",
    "\n",
    "    model = model_fn()\n",
    "\n",
    "    # 모델을 컴파일합니다.\n",
    "    model.compile(loss='binary_crossentropy', optimizer='adam', metrics=['accuracy'])\n",
    "\n",
    "    # 모델을 실행합니다.\n",
    "    history=model.fit(X_train, y_train, epochs=200, batch_size=10, verbose=0)\n",
    "\n",
    "    # 정확도를 구하고, 저장합니다.\n",
    "    accuracy=model.evaluate(X_test, y_test)[1]  \n",
    "    acc_score.append(accuracy)\n",
    "\n",
    "# k번 실시된 정확도의 평균을 구합니다.\n",
    "avg_acc_score = sum(acc_score) / k\n",
    "\n",
    "# 결과를 출력합니다.\n",
    "print('정확도:', acc_score)\n",
    "print('정확도 평균:',avg_acc_score)\n"
   ]
  },
  {
   "cell_type": "code",
   "execution_count": null,
   "metadata": {},
   "outputs": [],
   "source": []
  }
 ],
 "metadata": {
  "kernelspec": {
   "display_name": "Python 3 (ipykernel)",
   "language": "python",
   "name": "python3"
  },
  "language_info": {
   "codemirror_mode": {
    "name": "ipython",
    "version": 3
   },
   "file_extension": ".py",
   "mimetype": "text/x-python",
   "name": "python",
   "nbconvert_exporter": "python",
   "pygments_lexer": "ipython3",
   "version": "3.9.12"
  }
 },
 "nbformat": 4,
 "nbformat_minor": 2
}
