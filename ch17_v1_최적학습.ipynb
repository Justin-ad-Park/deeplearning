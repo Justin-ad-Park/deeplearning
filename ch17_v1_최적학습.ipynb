{
 "cells": [
  {
   "cell_type": "markdown",
   "metadata": {},
   "source": [
    "# 17장 딥러닝을 이용한 자연어 처리"
   ]
  },
  {
   "cell_type": "markdown",
   "metadata": {},
   "source": [
    "[<img src=\"https://raw.githubusercontent.com/taehojo/taehojo.github.io/master/assets/images/linktocolab.png\" align=\"left\"/> ](https://colab.research.google.com/github/taehojo/deeplearning/blob/master/colab/ch17-colab.ipynb)"
   ]
  },
  {
   "cell_type": "markdown",
   "metadata": {},
   "source": [
    "## 1. 텍스트의 토큰화"
   ]
  },
  {
   "cell_type": "code",
   "execution_count": 3,
   "metadata": {},
   "outputs": [],
   "source": [
    "from tensorflow.keras.preprocessing.text import Tokenizer\n",
    "from tensorflow.keras.preprocessing.sequence import pad_sequences\n",
    "from tensorflow.keras.models import Sequential\n",
    "from tensorflow.keras.layers import Dense,Flatten,Embedding\n",
    "from tensorflow.keras.utils import to_categorical\n",
    "from numpy import array\n",
    "\n",
    "# 케라스의 텍스트 전처리와 관련한 함수중 text_to_word_sequence 함수를 불러옵니다.\n",
    "from tensorflow.keras.preprocessing.text import text_to_word_sequence\n",
    " "
   ]
  },
  {
   "cell_type": "markdown",
   "metadata": {},
   "source": [
    "## 2.텍스트를 읽고 토큰 생성"
   ]
  },
  {
   "cell_type": "code",
   "execution_count": 4,
   "metadata": {},
   "outputs": [
    {
     "name": "stdout",
     "output_type": "stream",
     "text": [
      "{'너무': 1, '재밌네요': 2, '최고예요': 3, '참': 4, '잘': 5, '만든': 6, '영화예요': 7, '추천하고': 8, '싶은': 9, '영화입니다': 10, '한번': 11, '더': 12, '보고싶네요': 13, '글쎄요': 14, '별로예요': 15, '생각보다': 16, '지루하네요': 17, '연기가': 18, '어색해요': 19, '재미없어요': 20}\n"
     ]
    }
   ],
   "source": [
    "# 텍스트 리뷰 자료를 지정합니다.\n",
    "docs = [\"너무 재밌네요\",\"최고예요\",\"참 잘 만든 영화예요\",\"추천하고 싶은 영화입니다\",\"한번 더 보고싶네요\",\"글쎄요\",\"별로예요\",\"생각보다 지루하네요\",\"연기가 어색해요\",\"재미없어요\"]\n",
    "\n",
    "# 긍정 리뷰는 1, 부정 리뷰는 0으로 클래스를 지정합니다.\n",
    "classes = array([1,1,1,1,1,0,0,0,0,0])\n",
    "\n",
    "# 토큰화 \n",
    "token = Tokenizer()\n",
    "token.fit_on_texts(docs)\n",
    "print(token.word_index)\n"
   ]
  },
  {
   "cell_type": "markdown",
   "metadata": {},
   "source": [
    "# 3. 토큰 저장 (추후 예측에 활용)"
   ]
  },
  {
   "cell_type": "code",
   "execution_count": 7,
   "metadata": {},
   "outputs": [],
   "source": [
    "# 토큰 저장 saving\n",
    "import pickle\n",
    "\n",
    "\n",
    "tokenpath=\"./data/model/ch17_review_token.pickle\"\n",
    "\n",
    "with open(tokenpath, 'wb') as handle:\n",
    "    pickle.dump(token, handle, protocol=pickle.HIGHEST_PROTOCOL)\n"
   ]
  },
  {
   "cell_type": "code",
   "execution_count": 8,
   "metadata": {},
   "outputs": [
    {
     "name": "stdout",
     "output_type": "stream",
     "text": [
      "\n",
      "리뷰 텍스트, 토큰화 결과:\n",
      " [[1, 2], [3], [4, 5, 6, 7], [8, 9, 10], [11, 12, 13], [14], [15], [16, 17], [18, 19], [20]]\n"
     ]
    }
   ],
   "source": [
    "# 토큰화 결과 확인\n",
    "x = token.texts_to_sequences(docs)\n",
    "print(\"\\n리뷰 텍스트, 토큰화 결과:\\n\",  x)"
   ]
  },
  {
   "cell_type": "code",
   "execution_count": 9,
   "metadata": {},
   "outputs": [
    {
     "name": "stdout",
     "output_type": "stream",
     "text": [
      "\n",
      "패딩 결과:\n",
      " [[ 0  0  1  2]\n",
      " [ 0  0  0  3]\n",
      " [ 4  5  6  7]\n",
      " [ 0  8  9 10]\n",
      " [ 0 11 12 13]\n",
      " [ 0  0  0 14]\n",
      " [ 0  0  0 15]\n",
      " [ 0  0 16 17]\n",
      " [ 0  0 18 19]\n",
      " [ 0  0  0 20]]\n"
     ]
    }
   ],
   "source": [
    "# 패딩, 서로 다른 길이의 데이터를 4로 맞추어 줍니다.\n",
    "padded_x = pad_sequences(x, 4)  \n",
    "print(\"\\n패딩 결과:\\n\", padded_x)"
   ]
  },
  {
   "cell_type": "code",
   "execution_count": 10,
   "metadata": {},
   "outputs": [],
   "source": [
    "# 모델 체크(최적 학습), 종료\n",
    "from tensorflow.keras.callbacks import ModelCheckpoint,EarlyStopping\n",
    "import os\n",
    "\n",
    "# 모델 최적화를 위한 설정구간입니다.\n",
    "MODEL_DIR = './data/model/'\n",
    "if not os.path.exists(MODEL_DIR):\n",
    "    os.mkdir(MODEL_DIR)\n",
    "\n",
    "modelpath=\"./data/model/ch17_review_md.hdf5\"\n",
    "checkpointer = ModelCheckpoint(filepath=modelpath, monitor='accuracy', verbose=1, save_best_only=True)\n",
    "early_stopping_callback = EarlyStopping(monitor='accuracy', patience=10)\n",
    "\n"
   ]
  },
  {
   "cell_type": "code",
   "execution_count": 11,
   "metadata": {},
   "outputs": [
    {
     "name": "stdout",
     "output_type": "stream",
     "text": [
      "Model: \"sequential\"\n",
      "_________________________________________________________________\n",
      "Layer (type)                 Output Shape              Param #   \n",
      "=================================================================\n",
      "embedding (Embedding)        (None, 4, 8)              168       \n",
      "_________________________________________________________________\n",
      "flatten (Flatten)            (None, 32)                0         \n",
      "_________________________________________________________________\n",
      "dense (Dense)                (None, 1)                 33        \n",
      "=================================================================\n",
      "Total params: 201\n",
      "Trainable params: 201\n",
      "Non-trainable params: 0\n",
      "_________________________________________________________________\n"
     ]
    },
    {
     "name": "stderr",
     "output_type": "stream",
     "text": [
      "2022-06-10 16:58:00.350861: I tensorflow/core/platform/cpu_feature_guard.cc:151] This TensorFlow binary is optimized with oneAPI Deep Neural Network Library (oneDNN) to use the following CPU instructions in performance-critical operations:  AVX2 FMA\n",
      "To enable them in other operations, rebuild TensorFlow with the appropriate compiler flags.\n"
     ]
    }
   ],
   "source": [
    "# 임베딩에 입력될 단어의 수를 지정합니다.\n",
    "word_size = len(token.word_index) +1\n",
    "\n",
    "# 단어 임베딩을 포함하여 딥러닝 모델을 만들고 결과를 출력합니다.\n",
    "model = Sequential()\n",
    "model.add(Embedding(word_size, 8, input_length=4))\n",
    "model.add(Flatten())\n",
    "model.add(Dense(1, activation='sigmoid'))\n",
    "model.summary()"
   ]
  },
  {
   "cell_type": "code",
   "execution_count": 12,
   "metadata": {},
   "outputs": [
    {
     "name": "stdout",
     "output_type": "stream",
     "text": [
      "Epoch 1/40\n",
      "1/1 [==============================] - 0s 321ms/step - loss: 0.6879 - accuracy: 0.5000\n",
      "\n",
      "Epoch 00001: accuracy improved from -inf to 0.50000, saving model to ./data/model/ch17_review_md.hdf5\n",
      "Epoch 2/40\n",
      "1/1 [==============================] - 0s 2ms/step - loss: 0.6855 - accuracy: 0.5000\n",
      "\n",
      "Epoch 00002: accuracy did not improve from 0.50000\n",
      "Epoch 3/40\n",
      "1/1 [==============================] - 0s 2ms/step - loss: 0.6830 - accuracy: 0.6000\n",
      "\n",
      "Epoch 00003: accuracy improved from 0.50000 to 0.60000, saving model to ./data/model/ch17_review_md.hdf5\n",
      "Epoch 4/40\n",
      "1/1 [==============================] - 0s 2ms/step - loss: 0.6806 - accuracy: 0.6000\n",
      "\n",
      "Epoch 00004: accuracy did not improve from 0.60000\n",
      "Epoch 5/40\n",
      "1/1 [==============================] - 0s 2ms/step - loss: 0.6782 - accuracy: 0.8000\n",
      "\n",
      "Epoch 00005: accuracy improved from 0.60000 to 0.80000, saving model to ./data/model/ch17_review_md.hdf5\n",
      "Epoch 6/40\n",
      "1/1 [==============================] - 0s 2ms/step - loss: 0.6757 - accuracy: 0.8000\n",
      "\n",
      "Epoch 00006: accuracy did not improve from 0.80000\n",
      "Epoch 7/40\n",
      "1/1 [==============================] - 0s 2ms/step - loss: 0.6733 - accuracy: 0.8000\n",
      "\n",
      "Epoch 00007: accuracy did not improve from 0.80000\n",
      "Epoch 8/40\n",
      "1/1 [==============================] - 0s 2ms/step - loss: 0.6709 - accuracy: 0.8000\n",
      "\n",
      "Epoch 00008: accuracy did not improve from 0.80000\n",
      "Epoch 9/40\n",
      "1/1 [==============================] - 0s 2ms/step - loss: 0.6684 - accuracy: 0.8000\n",
      "\n",
      "Epoch 00009: accuracy did not improve from 0.80000\n",
      "Epoch 10/40\n",
      "1/1 [==============================] - 0s 2ms/step - loss: 0.6660 - accuracy: 0.8000\n",
      "\n",
      "Epoch 00010: accuracy did not improve from 0.80000\n",
      "Epoch 11/40\n",
      "1/1 [==============================] - 0s 2ms/step - loss: 0.6636 - accuracy: 0.9000\n",
      "\n",
      "Epoch 00011: accuracy improved from 0.80000 to 0.90000, saving model to ./data/model/ch17_review_md.hdf5\n",
      "Epoch 12/40\n",
      "1/1 [==============================] - 0s 2ms/step - loss: 0.6611 - accuracy: 0.9000\n",
      "\n",
      "Epoch 00012: accuracy did not improve from 0.90000\n",
      "Epoch 13/40\n",
      "1/1 [==============================] - 0s 2ms/step - loss: 0.6587 - accuracy: 0.9000\n",
      "\n",
      "Epoch 00013: accuracy did not improve from 0.90000\n",
      "Epoch 14/40\n",
      "1/1 [==============================] - 0s 2ms/step - loss: 0.6562 - accuracy: 0.9000\n",
      "\n",
      "Epoch 00014: accuracy did not improve from 0.90000\n",
      "Epoch 15/40\n",
      "1/1 [==============================] - 0s 2ms/step - loss: 0.6538 - accuracy: 0.9000\n",
      "\n",
      "Epoch 00015: accuracy did not improve from 0.90000\n",
      "Epoch 16/40\n",
      "1/1 [==============================] - 0s 2ms/step - loss: 0.6513 - accuracy: 0.9000\n",
      "\n",
      "Epoch 00016: accuracy did not improve from 0.90000\n",
      "Epoch 17/40\n",
      "1/1 [==============================] - 0s 2ms/step - loss: 0.6489 - accuracy: 0.9000\n",
      "\n",
      "Epoch 00017: accuracy did not improve from 0.90000\n",
      "Epoch 18/40\n",
      "1/1 [==============================] - 0s 2ms/step - loss: 0.6464 - accuracy: 0.9000\n",
      "\n",
      "Epoch 00018: accuracy did not improve from 0.90000\n",
      "Epoch 19/40\n",
      "1/1 [==============================] - 0s 2ms/step - loss: 0.6439 - accuracy: 0.9000\n",
      "\n",
      "Epoch 00019: accuracy did not improve from 0.90000\n",
      "Epoch 20/40\n",
      "1/1 [==============================] - 0s 2ms/step - loss: 0.6414 - accuracy: 0.9000\n",
      "\n",
      "Epoch 00020: accuracy did not improve from 0.90000\n",
      "Epoch 21/40\n",
      "1/1 [==============================] - 0s 2ms/step - loss: 0.6389 - accuracy: 0.9000\n",
      "\n",
      "Epoch 00021: accuracy did not improve from 0.90000\n"
     ]
    },
    {
     "data": {
      "text/plain": [
       "<keras.callbacks.History at 0x7fa09b435040>"
      ]
     },
     "execution_count": 12,
     "metadata": {},
     "output_type": "execute_result"
    }
   ],
   "source": [
    "model.compile(optimizer='adam', loss='binary_crossentropy', metrics=['accuracy'])\n",
    "model.fit(padded_x, classes, epochs=40,callbacks=[early_stopping_callback,checkpointer])\n"
   ]
  },
  {
   "cell_type": "code",
   "execution_count": 13,
   "metadata": {},
   "outputs": [
    {
     "name": "stdout",
     "output_type": "stream",
     "text": [
      "[[14, 1, 3], [4, 1, 15], [14, 17], [20], []]\n",
      "[[ 0 14  1  3]\n",
      " [ 0  4  1 15]\n",
      " [ 0  0 14 17]\n",
      " [ 0  0  0 20]\n",
      " [ 0  0  0  0]]\n",
      "1/1 [==============================] - 0s 103ms/step - loss: 0.6609 - accuracy: 1.0000\n",
      "\n",
      " Accuracy: 1.0000\n"
     ]
    }
   ],
   "source": [
    "# 예측률 검증\n",
    "#  \"참 너무 별로예요\" 는 부정이지만, 분석 데이터 기준으로는 긍정 평가임\n",
    "test_doc = [\"글쎄요 너무 최고예요\", \"참 너무 별로예요\", \"글쎄요 지루하네요\",\"재미없어요\",\"이상한 문구는 어떻게 되나요\"];\n",
    "classes_y = array([1,0,0,0,0])\n",
    "\n",
    "test = token.texts_to_sequences(test_doc)\n",
    "print(test)\n",
    "padded_test = pad_sequences(test, 4)  \n",
    "print(padded_test)\n",
    "\n",
    "#model.predict(padded_test)\n",
    "\n",
    "print(\"\\n Accuracy: %.4f\" % (model.evaluate(padded_test, classes_y)[1]))"
   ]
  },
  {
   "cell_type": "code",
   "execution_count": null,
   "metadata": {},
   "outputs": [],
   "source": []
  }
 ],
 "metadata": {
  "kernelspec": {
   "display_name": "Python 3 (ipykernel)",
   "language": "python",
   "name": "python3"
  },
  "language_info": {
   "codemirror_mode": {
    "name": "ipython",
    "version": 3
   },
   "file_extension": ".py",
   "mimetype": "text/x-python",
   "name": "python",
   "nbconvert_exporter": "python",
   "pygments_lexer": "ipython3",
   "version": "3.9.12"
  }
 },
 "nbformat": 4,
 "nbformat_minor": 2
}
